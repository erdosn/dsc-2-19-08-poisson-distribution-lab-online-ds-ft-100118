{
 "cells": [
  {
   "cell_type": "markdown",
   "metadata": {},
   "source": [
    "# Poisson Distribution - Lab\n",
    "\n",
    "## Introduction\n",
    "\n",
    "In this lab, we'll put our knowledge of the Poisson Distribution to use to answer solve some sample real-world problems!\n",
    "\n",
    "## Objectives\n",
    "\n",
    "You will be able to:\n",
    "\n",
    "* Understand and explain the Poisson Distribution and its use cases.\n",
    "\n",
    "\n",
    "## Instructions\n",
    "\n",
    "Solve the following sample problems by using python and your knowledge of the Poisson Distribution.\n",
    "\n",
    "## Getting Started\n",
    "\n",
    "Good Data Scientists plan ahead! Since you're going to be solving Poisson Distribution problems in this lab, it's probably a good idea to write a function that calculates Poisson Probability for us first. \n",
    "\n",
    "Recall that the Poisson Probability Formula is:\n",
    "\n",
    "$$p(x) = \\frac{\\lambda^xe^{-x}}{x!}$$\n",
    "\n",
    "Write a generalized that takes in the appropriate parameters and returns the Poisson Probability.\n",
    "\n",
    "**_NOTE:_**  You can use `np.exp()` to quickly calculate $e$, and `math.factorial` (from the `math` library, not numpy) to calculate factorials. \n",
    "\n",
    "**_HINT:_** It's up to you whether or not you have your function calculate the value for lambda given $\\mu$ and the interval, or whether you calculate lambda yourself beforehand and just pass it into the function. "
   ]
  },
  {
   "cell_type": "code",
   "execution_count": 2,
   "metadata": {},
   "outputs": [],
   "source": [
    "import numpy as np\n",
    "from math import factorial"
   ]
  },
  {
   "cell_type": "code",
   "execution_count": 40,
   "metadata": {},
   "outputs": [],
   "source": [
    "def poisson_probability(lambd=None, x=None, mu=None, interval=None):\n",
    "    if lambd is None:\n",
    "        lambd = mu*interval\n",
    "    return (lambd**x)*(np.exp(-x))/factorial(x)"
   ]
  },
  {
   "cell_type": "markdown",
   "metadata": {},
   "source": [
    "## Question 1\n",
    "\n",
    "A fireman fights, on average, 4 fires per month. What is the probability that a fireman is called to two different fires this week?"
   ]
  },
  {
   "cell_type": "code",
   "execution_count": 41,
   "metadata": {},
   "outputs": [
    {
     "name": "stdout",
     "output_type": "stream",
     "text": [
      "0.06766764161830635 0.06766764161830635\n"
     ]
    }
   ],
   "source": [
    "lambd_q1 = 1 # 1 fire per week -> mean in the given time interval\n",
    "prob_q1a = poisson_probability(x=2, mu=4, interval=0.25) # 4 per month, interval = 0.25 of 1 month\n",
    "prob_q1b = poisson_probability(lambd=1, x=2) # lambda = 1, x = 2\n",
    "print(prob_q1a, prob_q1b)  # Expected Output:  0.06766764161830635"
   ]
  },
  {
   "cell_type": "markdown",
   "metadata": {},
   "source": [
    "## Question 2\n",
    "\n",
    "A car salesman sells an average of 4 cars per week.  What is the probability they sell a car today?"
   ]
  },
  {
   "cell_type": "code",
   "execution_count": 42,
   "metadata": {},
   "outputs": [
    {
     "name": "stdout",
     "output_type": "stream",
     "text": [
      "0.21021682352653848 0.21021682352653848\n"
     ]
    }
   ],
   "source": [
    "lambd_q2 = float(4/7)\n",
    "prob_q2a = poisson_probability(lambd=lambd_q2, x=1) # lambda = 4/7 and x = 1\n",
    "prob_q2b = poisson_probability(x=1, mu=4, interval=float(1/7)) # mu = 4 and interval is 1/7 of interval in mean\n",
    "print(prob_q2a, prob_q2b)  # Expected Output: 0.21021682352653848"
   ]
  },
  {
   "cell_type": "markdown",
   "metadata": {},
   "source": [
    "## Question 3\n",
    "\n",
    "A website makes an average of 50 sales per day.  What is the probability that they make 3 sales in an hour? "
   ]
  },
  {
   "cell_type": "code",
   "execution_count": 43,
   "metadata": {},
   "outputs": [
    {
     "name": "stdout",
     "output_type": "stream",
     "text": [
      "0.07503114807560515 0.07503114807560511\n"
     ]
    }
   ],
   "source": [
    "lambd_q3 = float(50/24)\n",
    "prob_q3a = poisson_probability(lambd=lambd_q3, x=3)\n",
    "prob_q3b = poisson_probability(x=3, mu=50, interval=float(1/24)) # hours is 1/24th of day\n",
    "print(prob_q3a, prob_q3b)  # Expected Output: 0.07503114807560515"
   ]
  },
  {
   "cell_type": "markdown",
   "metadata": {},
   "source": [
    "## Question 4\n",
    "\n",
    "A factory produces 250 cars per week (assume that the factory runs day and night all week with no down time). What is the probability that they produce 3 cars in the next hour?"
   ]
  },
  {
   "cell_type": "code",
   "execution_count": 44,
   "metadata": {},
   "outputs": [
    {
     "name": "stdout",
     "output_type": "stream",
     "text": [
      "0.02734371285554123 0.027343712855541224\n"
     ]
    }
   ],
   "source": [
    "lambd_q4 = float(250/7/24)\n",
    "prob_q4a = poisson_probability(lambd=lambd_q4, x=3)\n",
    "prob_q4b = poisson_probability(x=3, mu=250, interval=float(1/7/24)) # week -> hour \n",
    "print(prob_q4a, prob_q4b)   # Expected Output: 0.02734371285554123"
   ]
  },
  {
   "cell_type": "markdown",
   "metadata": {},
   "source": [
    "## Question 5\n",
    "\n",
    "The following table shows the number of houses sold by a realtor each week for the month of May. What is the probability that they sell 3 houses next week?\n",
    "\n",
    "| Week | Houses Sold |\n",
    "|:----:|:-----------:|\n",
    "|   1  |      6      |\n",
    "|   2  |      2      |\n",
    "|   3  |      5      |\n",
    "|   4  |      4      |"
   ]
  },
  {
   "cell_type": "code",
   "execution_count": 47,
   "metadata": {},
   "outputs": [
    {
     "name": "stdout",
     "output_type": "stream",
     "text": [
      "4.25\n",
      "0.6369892366961343 0.6369892366961343\n"
     ]
    }
   ],
   "source": [
    "mean_weekly_sales = np.mean([6, 2, 5, 4])\n",
    "lambd_q5 = mean_weekly_sales\n",
    "prob_q5a = poisson_probability(lambd=lambd_q5, x=3)\n",
    "prob_q5b = poisson_probability(x=3, mu=mean_weekly_sales, interval=1)\n",
    "print(mean_weekly_sales)\n",
    "print(prob_q5a, prob_q5b)  # Expected Output: 0.6369892366961343"
   ]
  },
  {
   "cell_type": "markdown",
   "metadata": {},
   "source": [
    "## Summary\n",
    "\n",
    "In this lab, we got some practice making use of our knowledge of the Poisson Distribution to answer some real-world questions!"
   ]
  }
 ],
 "metadata": {
  "kernelspec": {
   "display_name": "Python 3",
   "language": "python",
   "name": "python3"
  },
  "language_info": {
   "codemirror_mode": {
    "name": "ipython",
    "version": 3
   },
   "file_extension": ".py",
   "mimetype": "text/x-python",
   "name": "python",
   "nbconvert_exporter": "python",
   "pygments_lexer": "ipython3",
   "version": "3.6.5"
  }
 },
 "nbformat": 4,
 "nbformat_minor": 2
}
